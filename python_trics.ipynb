{
  "nbformat": 4,
  "nbformat_minor": 0,
  "metadata": {
    "colab": {
      "name": "python_trics.ipynb",
      "provenance": [],
      "authorship_tag": "ABX9TyOP1QiMl76DInsWVp+mGiSP",
      "include_colab_link": true
    },
    "kernelspec": {
      "name": "python3",
      "display_name": "Python 3"
    }
  },
  "cells": [
    {
      "cell_type": "markdown",
      "metadata": {
        "id": "view-in-github",
        "colab_type": "text"
      },
      "source": [
        "<a href=\"https://colab.research.google.com/github/avinashronanki/pandas/blob/master/python_trics.ipynb\" target=\"_parent\"><img src=\"https://colab.research.google.com/assets/colab-badge.svg\" alt=\"Open In Colab\"/></a>"
      ]
    },
    {
      "cell_type": "markdown",
      "metadata": {
        "id": "wR3W25wM8JPi"
      },
      "source": [
        "Download YouTube Videos"
      ]
    },
    {
      "cell_type": "code",
      "metadata": {
        "id": "qm_YZM2f9ClL"
      },
      "source": [
        "#https://github.com/ytdl-org/youtube-dl"
      ],
      "execution_count": null,
      "outputs": []
    },
    {
      "cell_type": "code",
      "metadata": {
        "colab": {
          "base_uri": "https://localhost:8080/"
        },
        "id": "ihZgzqxp7w1j",
        "outputId": "26e00b2f-3dd4-4c5a-e3ad-4bdd3907fd6b"
      },
      "source": [
        "!pip install youtube-dl"
      ],
      "execution_count": 1,
      "outputs": [
        {
          "output_type": "stream",
          "text": [
            "Collecting youtube-dl\n",
            "\u001b[?25l  Downloading https://files.pythonhosted.org/packages/69/5a/efd35e71b65974f3e559c3d5afc18166e9de91a1da1a10620f8c515e0ae9/youtube_dl-2020.11.24-py2.py3-none-any.whl (1.8MB)\n",
            "\r\u001b[K     |▏                               | 10kB 16.4MB/s eta 0:00:01\r\u001b[K     |▍                               | 20kB 22.4MB/s eta 0:00:01\r\u001b[K     |▌                               | 30kB 26.4MB/s eta 0:00:01\r\u001b[K     |▊                               | 40kB 21.1MB/s eta 0:00:01\r\u001b[K     |█                               | 51kB 17.2MB/s eta 0:00:01\r\u001b[K     |█                               | 61kB 15.1MB/s eta 0:00:01\r\u001b[K     |█▎                              | 71kB 12.8MB/s eta 0:00:01\r\u001b[K     |█▍                              | 81kB 13.4MB/s eta 0:00:01\r\u001b[K     |█▋                              | 92kB 13.4MB/s eta 0:00:01\r\u001b[K     |█▉                              | 102kB 12.9MB/s eta 0:00:01\r\u001b[K     |██                              | 112kB 12.9MB/s eta 0:00:01\r\u001b[K     |██▏                             | 122kB 12.9MB/s eta 0:00:01\r\u001b[K     |██▎                             | 133kB 12.9MB/s eta 0:00:01\r\u001b[K     |██▌                             | 143kB 12.9MB/s eta 0:00:01\r\u001b[K     |██▊                             | 153kB 12.9MB/s eta 0:00:01\r\u001b[K     |██▉                             | 163kB 12.9MB/s eta 0:00:01\r\u001b[K     |███                             | 174kB 12.9MB/s eta 0:00:01\r\u001b[K     |███▏                            | 184kB 12.9MB/s eta 0:00:01\r\u001b[K     |███▍                            | 194kB 12.9MB/s eta 0:00:01\r\u001b[K     |███▋                            | 204kB 12.9MB/s eta 0:00:01\r\u001b[K     |███▊                            | 215kB 12.9MB/s eta 0:00:01\r\u001b[K     |████                            | 225kB 12.9MB/s eta 0:00:01\r\u001b[K     |████                            | 235kB 12.9MB/s eta 0:00:01\r\u001b[K     |████▎                           | 245kB 12.9MB/s eta 0:00:01\r\u001b[K     |████▌                           | 256kB 12.9MB/s eta 0:00:01\r\u001b[K     |████▋                           | 266kB 12.9MB/s eta 0:00:01\r\u001b[K     |████▉                           | 276kB 12.9MB/s eta 0:00:01\r\u001b[K     |█████                           | 286kB 12.9MB/s eta 0:00:01\r\u001b[K     |█████▏                          | 296kB 12.9MB/s eta 0:00:01\r\u001b[K     |█████▍                          | 307kB 12.9MB/s eta 0:00:01\r\u001b[K     |█████▌                          | 317kB 12.9MB/s eta 0:00:01\r\u001b[K     |█████▊                          | 327kB 12.9MB/s eta 0:00:01\r\u001b[K     |██████                          | 337kB 12.9MB/s eta 0:00:01\r\u001b[K     |██████                          | 348kB 12.9MB/s eta 0:00:01\r\u001b[K     |██████▎                         | 358kB 12.9MB/s eta 0:00:01\r\u001b[K     |██████▍                         | 368kB 12.9MB/s eta 0:00:01\r\u001b[K     |██████▋                         | 378kB 12.9MB/s eta 0:00:01\r\u001b[K     |██████▉                         | 389kB 12.9MB/s eta 0:00:01\r\u001b[K     |███████                         | 399kB 12.9MB/s eta 0:00:01\r\u001b[K     |███████▏                        | 409kB 12.9MB/s eta 0:00:01\r\u001b[K     |███████▎                        | 419kB 12.9MB/s eta 0:00:01\r\u001b[K     |███████▌                        | 430kB 12.9MB/s eta 0:00:01\r\u001b[K     |███████▊                        | 440kB 12.9MB/s eta 0:00:01\r\u001b[K     |███████▉                        | 450kB 12.9MB/s eta 0:00:01\r\u001b[K     |████████                        | 460kB 12.9MB/s eta 0:00:01\r\u001b[K     |████████▏                       | 471kB 12.9MB/s eta 0:00:01\r\u001b[K     |████████▍                       | 481kB 12.9MB/s eta 0:00:01\r\u001b[K     |████████▋                       | 491kB 12.9MB/s eta 0:00:01\r\u001b[K     |████████▊                       | 501kB 12.9MB/s eta 0:00:01\r\u001b[K     |█████████                       | 512kB 12.9MB/s eta 0:00:01\r\u001b[K     |█████████                       | 522kB 12.9MB/s eta 0:00:01\r\u001b[K     |█████████▎                      | 532kB 12.9MB/s eta 0:00:01\r\u001b[K     |█████████▌                      | 542kB 12.9MB/s eta 0:00:01\r\u001b[K     |█████████▋                      | 552kB 12.9MB/s eta 0:00:01\r\u001b[K     |█████████▉                      | 563kB 12.9MB/s eta 0:00:01\r\u001b[K     |██████████                      | 573kB 12.9MB/s eta 0:00:01\r\u001b[K     |██████████▏                     | 583kB 12.9MB/s eta 0:00:01\r\u001b[K     |██████████▍                     | 593kB 12.9MB/s eta 0:00:01\r\u001b[K     |██████████▌                     | 604kB 12.9MB/s eta 0:00:01\r\u001b[K     |██████████▊                     | 614kB 12.9MB/s eta 0:00:01\r\u001b[K     |██████████▉                     | 624kB 12.9MB/s eta 0:00:01\r\u001b[K     |███████████                     | 634kB 12.9MB/s eta 0:00:01\r\u001b[K     |███████████▎                    | 645kB 12.9MB/s eta 0:00:01\r\u001b[K     |███████████▍                    | 655kB 12.9MB/s eta 0:00:01\r\u001b[K     |███████████▋                    | 665kB 12.9MB/s eta 0:00:01\r\u001b[K     |███████████▉                    | 675kB 12.9MB/s eta 0:00:01\r\u001b[K     |████████████                    | 686kB 12.9MB/s eta 0:00:01\r\u001b[K     |████████████▏                   | 696kB 12.9MB/s eta 0:00:01\r\u001b[K     |████████████▎                   | 706kB 12.9MB/s eta 0:00:01\r\u001b[K     |████████████▌                   | 716kB 12.9MB/s eta 0:00:01\r\u001b[K     |████████████▊                   | 727kB 12.9MB/s eta 0:00:01\r\u001b[K     |████████████▉                   | 737kB 12.9MB/s eta 0:00:01\r\u001b[K     |█████████████                   | 747kB 12.9MB/s eta 0:00:01\r\u001b[K     |█████████████▏                  | 757kB 12.9MB/s eta 0:00:01\r\u001b[K     |█████████████▍                  | 768kB 12.9MB/s eta 0:00:01\r\u001b[K     |█████████████▋                  | 778kB 12.9MB/s eta 0:00:01\r\u001b[K     |█████████████▊                  | 788kB 12.9MB/s eta 0:00:01\r\u001b[K     |██████████████                  | 798kB 12.9MB/s eta 0:00:01\r\u001b[K     |██████████████                  | 808kB 12.9MB/s eta 0:00:01\r\u001b[K     |██████████████▎                 | 819kB 12.9MB/s eta 0:00:01\r\u001b[K     |██████████████▌                 | 829kB 12.9MB/s eta 0:00:01\r\u001b[K     |██████████████▋                 | 839kB 12.9MB/s eta 0:00:01\r\u001b[K     |██████████████▉                 | 849kB 12.9MB/s eta 0:00:01\r\u001b[K     |███████████████                 | 860kB 12.9MB/s eta 0:00:01\r\u001b[K     |███████████████▏                | 870kB 12.9MB/s eta 0:00:01\r\u001b[K     |███████████████▍                | 880kB 12.9MB/s eta 0:00:01\r\u001b[K     |███████████████▌                | 890kB 12.9MB/s eta 0:00:01\r\u001b[K     |███████████████▊                | 901kB 12.9MB/s eta 0:00:01\r\u001b[K     |███████████████▉                | 911kB 12.9MB/s eta 0:00:01\r\u001b[K     |████████████████                | 921kB 12.9MB/s eta 0:00:01\r\u001b[K     |████████████████▎               | 931kB 12.9MB/s eta 0:00:01\r\u001b[K     |████████████████▍               | 942kB 12.9MB/s eta 0:00:01\r\u001b[K     |████████████████▋               | 952kB 12.9MB/s eta 0:00:01\r\u001b[K     |████████████████▉               | 962kB 12.9MB/s eta 0:00:01\r\u001b[K     |█████████████████               | 972kB 12.9MB/s eta 0:00:01\r\u001b[K     |█████████████████▏              | 983kB 12.9MB/s eta 0:00:01\r\u001b[K     |█████████████████▎              | 993kB 12.9MB/s eta 0:00:01\r\u001b[K     |█████████████████▌              | 1.0MB 12.9MB/s eta 0:00:01\r\u001b[K     |█████████████████▊              | 1.0MB 12.9MB/s eta 0:00:01\r\u001b[K     |█████████████████▉              | 1.0MB 12.9MB/s eta 0:00:01\r\u001b[K     |██████████████████              | 1.0MB 12.9MB/s eta 0:00:01\r\u001b[K     |██████████████████▏             | 1.0MB 12.9MB/s eta 0:00:01\r\u001b[K     |██████████████████▍             | 1.1MB 12.9MB/s eta 0:00:01\r\u001b[K     |██████████████████▋             | 1.1MB 12.9MB/s eta 0:00:01\r\u001b[K     |██████████████████▊             | 1.1MB 12.9MB/s eta 0:00:01\r\u001b[K     |███████████████████             | 1.1MB 12.9MB/s eta 0:00:01\r\u001b[K     |███████████████████             | 1.1MB 12.9MB/s eta 0:00:01\r\u001b[K     |███████████████████▎            | 1.1MB 12.9MB/s eta 0:00:01\r\u001b[K     |███████████████████▌            | 1.1MB 12.9MB/s eta 0:00:01\r\u001b[K     |███████████████████▋            | 1.1MB 12.9MB/s eta 0:00:01\r\u001b[K     |███████████████████▉            | 1.1MB 12.9MB/s eta 0:00:01\r\u001b[K     |████████████████████            | 1.1MB 12.9MB/s eta 0:00:01\r\u001b[K     |████████████████████▏           | 1.2MB 12.9MB/s eta 0:00:01\r\u001b[K     |████████████████████▍           | 1.2MB 12.9MB/s eta 0:00:01\r\u001b[K     |████████████████████▌           | 1.2MB 12.9MB/s eta 0:00:01\r\u001b[K     |████████████████████▊           | 1.2MB 12.9MB/s eta 0:00:01\r\u001b[K     |████████████████████▉           | 1.2MB 12.9MB/s eta 0:00:01\r\u001b[K     |█████████████████████           | 1.2MB 12.9MB/s eta 0:00:01\r\u001b[K     |█████████████████████▎          | 1.2MB 12.9MB/s eta 0:00:01\r\u001b[K     |█████████████████████▍          | 1.2MB 12.9MB/s eta 0:00:01\r\u001b[K     |█████████████████████▋          | 1.2MB 12.9MB/s eta 0:00:01\r\u001b[K     |█████████████████████▊          | 1.2MB 12.9MB/s eta 0:00:01\r\u001b[K     |██████████████████████          | 1.3MB 12.9MB/s eta 0:00:01\r\u001b[K     |██████████████████████▏         | 1.3MB 12.9MB/s eta 0:00:01\r\u001b[K     |██████████████████████▎         | 1.3MB 12.9MB/s eta 0:00:01\r\u001b[K     |██████████████████████▌         | 1.3MB 12.9MB/s eta 0:00:01\r\u001b[K     |██████████████████████▊         | 1.3MB 12.9MB/s eta 0:00:01\r\u001b[K     |██████████████████████▉         | 1.3MB 12.9MB/s eta 0:00:01\r\u001b[K     |███████████████████████         | 1.3MB 12.9MB/s eta 0:00:01\r\u001b[K     |███████████████████████▏        | 1.3MB 12.9MB/s eta 0:00:01\r\u001b[K     |███████████████████████▍        | 1.3MB 12.9MB/s eta 0:00:01\r\u001b[K     |███████████████████████▋        | 1.4MB 12.9MB/s eta 0:00:01\r\u001b[K     |███████████████████████▊        | 1.4MB 12.9MB/s eta 0:00:01\r\u001b[K     |████████████████████████        | 1.4MB 12.9MB/s eta 0:00:01\r\u001b[K     |████████████████████████        | 1.4MB 12.9MB/s eta 0:00:01\r\u001b[K     |████████████████████████▎       | 1.4MB 12.9MB/s eta 0:00:01\r\u001b[K     |████████████████████████▌       | 1.4MB 12.9MB/s eta 0:00:01\r\u001b[K     |████████████████████████▋       | 1.4MB 12.9MB/s eta 0:00:01\r\u001b[K     |████████████████████████▉       | 1.4MB 12.9MB/s eta 0:00:01\r\u001b[K     |█████████████████████████       | 1.4MB 12.9MB/s eta 0:00:01\r\u001b[K     |█████████████████████████▏      | 1.4MB 12.9MB/s eta 0:00:01\r\u001b[K     |█████████████████████████▍      | 1.5MB 12.9MB/s eta 0:00:01\r\u001b[K     |█████████████████████████▌      | 1.5MB 12.9MB/s eta 0:00:01\r\u001b[K     |█████████████████████████▊      | 1.5MB 12.9MB/s eta 0:00:01\r\u001b[K     |█████████████████████████▉      | 1.5MB 12.9MB/s eta 0:00:01\r\u001b[K     |██████████████████████████      | 1.5MB 12.9MB/s eta 0:00:01\r\u001b[K     |██████████████████████████▎     | 1.5MB 12.9MB/s eta 0:00:01\r\u001b[K     |██████████████████████████▍     | 1.5MB 12.9MB/s eta 0:00:01\r\u001b[K     |██████████████████████████▋     | 1.5MB 12.9MB/s eta 0:00:01\r\u001b[K     |██████████████████████████▊     | 1.5MB 12.9MB/s eta 0:00:01\r\u001b[K     |███████████████████████████     | 1.5MB 12.9MB/s eta 0:00:01\r\u001b[K     |███████████████████████████▏    | 1.6MB 12.9MB/s eta 0:00:01\r\u001b[K     |███████████████████████████▎    | 1.6MB 12.9MB/s eta 0:00:01\r\u001b[K     |███████████████████████████▌    | 1.6MB 12.9MB/s eta 0:00:01\r\u001b[K     |███████████████████████████▋    | 1.6MB 12.9MB/s eta 0:00:01\r\u001b[K     |███████████████████████████▉    | 1.6MB 12.9MB/s eta 0:00:01\r\u001b[K     |████████████████████████████    | 1.6MB 12.9MB/s eta 0:00:01\r\u001b[K     |████████████████████████████▏   | 1.6MB 12.9MB/s eta 0:00:01\r\u001b[K     |████████████████████████████▍   | 1.6MB 12.9MB/s eta 0:00:01\r\u001b[K     |████████████████████████████▋   | 1.6MB 12.9MB/s eta 0:00:01\r\u001b[K     |████████████████████████████▊   | 1.6MB 12.9MB/s eta 0:00:01\r\u001b[K     |█████████████████████████████   | 1.7MB 12.9MB/s eta 0:00:01\r\u001b[K     |█████████████████████████████   | 1.7MB 12.9MB/s eta 0:00:01\r\u001b[K     |█████████████████████████████▎  | 1.7MB 12.9MB/s eta 0:00:01\r\u001b[K     |█████████████████████████████▌  | 1.7MB 12.9MB/s eta 0:00:01\r\u001b[K     |█████████████████████████████▋  | 1.7MB 12.9MB/s eta 0:00:01\r\u001b[K     |█████████████████████████████▉  | 1.7MB 12.9MB/s eta 0:00:01\r\u001b[K     |██████████████████████████████  | 1.7MB 12.9MB/s eta 0:00:01\r\u001b[K     |██████████████████████████████▏ | 1.7MB 12.9MB/s eta 0:00:01\r\u001b[K     |██████████████████████████████▍ | 1.7MB 12.9MB/s eta 0:00:01\r\u001b[K     |██████████████████████████████▌ | 1.8MB 12.9MB/s eta 0:00:01\r\u001b[K     |██████████████████████████████▊ | 1.8MB 12.9MB/s eta 0:00:01\r\u001b[K     |██████████████████████████████▉ | 1.8MB 12.9MB/s eta 0:00:01\r\u001b[K     |███████████████████████████████ | 1.8MB 12.9MB/s eta 0:00:01\r\u001b[K     |███████████████████████████████▎| 1.8MB 12.9MB/s eta 0:00:01\r\u001b[K     |███████████████████████████████▍| 1.8MB 12.9MB/s eta 0:00:01\r\u001b[K     |███████████████████████████████▋| 1.8MB 12.9MB/s eta 0:00:01\r\u001b[K     |███████████████████████████████▊| 1.8MB 12.9MB/s eta 0:00:01\r\u001b[K     |████████████████████████████████| 1.8MB 12.9MB/s eta 0:00:01\r\u001b[K     |████████████████████████████████| 1.8MB 12.9MB/s \n",
            "\u001b[?25hInstalling collected packages: youtube-dl\n",
            "Successfully installed youtube-dl-2020.11.24\n"
          ],
          "name": "stdout"
        }
      ]
    },
    {
      "cell_type": "code",
      "metadata": {
        "colab": {
          "base_uri": "https://localhost:8080/"
        },
        "id": "KQxcRLy68Ww_",
        "outputId": "f5913344-cf60-4e65-c293-1cea8bcf1220"
      },
      "source": [
        "!youtube-dl https://www.youtube.com/watch?v=cRx1Q_vX1_Q"
      ],
      "execution_count": 2,
      "outputs": [
        {
          "output_type": "stream",
          "text": [
            "[youtube] cRx1Q_vX1_Q: Downloading webpage\n",
            "[youtube] cRx1Q_vX1_Q: Downloading MPD manifest\n",
            "[dashsegments] Total fragments: 10\n",
            "[download] Destination: Dhed DHIMAK Puri Jagannadh podcast status dhed DHIMAK status-cRx1Q_vX1_Q.f247.webm\n",
            "\u001b[K[download] 100% of 3.08MiB in 00:05\n",
            "[dashsegments] Total fragments: 6\n",
            "[download] Destination: Dhed DHIMAK Puri Jagannadh podcast status dhed DHIMAK status-cRx1Q_vX1_Q.f251.webm\n",
            "\u001b[K[download] 100% of 704.56KiB in 00:00\n",
            "[ffmpeg] Merging formats into \"Dhed DHIMAK Puri Jagannadh podcast status dhed DHIMAK status-cRx1Q_vX1_Q.webm\"\n",
            "Deleting original file Dhed DHIMAK Puri Jagannadh podcast status dhed DHIMAK status-cRx1Q_vX1_Q.f247.webm (pass -k to keep)\n",
            "Deleting original file Dhed DHIMAK Puri Jagannadh podcast status dhed DHIMAK status-cRx1Q_vX1_Q.f251.webm (pass -k to keep)\n"
          ],
          "name": "stdout"
        }
      ]
    },
    {
      "cell_type": "code",
      "metadata": {
        "colab": {
          "base_uri": "https://localhost:8080/"
        },
        "id": "U6h-v80K9KLD",
        "outputId": "ee450347-363a-41a2-8e17-eba211abc324"
      },
      "source": [
        "import youtube_dl\n",
        "# downloading list of youtube videos \n",
        "links = ['https://www.youtube.com/watch?v=cRx1Q_vX1_Q', 'https://www.youtube.com/watch?v=b9vahy6dQJQ']\n",
        "\n",
        "ydl = youtube_dl.YoutubeDL() \n",
        "ydl.download(links)"
      ],
      "execution_count": 5,
      "outputs": [
        {
          "output_type": "stream",
          "text": [
            "[youtube] cRx1Q_vX1_Q: Downloading webpage\n",
            "[youtube] cRx1Q_vX1_Q: Downloading MPD manifest\n",
            "[dashsegments] Total fragments: 10\n",
            "[download] Destination: Dhed DHIMAK Puri Jagannadh podcast status dhed DHIMAK status-cRx1Q_vX1_Q.f247.webm\n",
            "[download]  70.0% of ~3.19MiB at 15.97MiB/s ETA 00:01[download] Skipping fragment 8...\n",
            "[download]  80.0% of ~3.25MiB at 15.51MiB/s ETA 00:00[download] Skipping fragment 10...\n",
            "[download] 100% of 2.60MiB in 00:03\n",
            "[dashsegments] Total fragments: 6\n",
            "[download] Destination: Dhed DHIMAK Puri Jagannadh podcast status dhed DHIMAK status-cRx1Q_vX1_Q.f251.webm\n",
            "[download] 100% of 704.56KiB in 00:00\n",
            "[ffmpeg] Merging formats into \"Dhed DHIMAK Puri Jagannadh podcast status dhed DHIMAK status-cRx1Q_vX1_Q.webm\"\n",
            "Deleting original file Dhed DHIMAK Puri Jagannadh podcast status dhed DHIMAK status-cRx1Q_vX1_Q.f247.webm (pass -k to keep)\n",
            "Deleting original file Dhed DHIMAK Puri Jagannadh podcast status dhed DHIMAK status-cRx1Q_vX1_Q.f251.webm (pass -k to keep)\n",
            "[youtube] b9vahy6dQJQ: Downloading webpage\n"
          ],
          "name": "stdout"
        },
        {
          "output_type": "stream",
          "text": [
            "WARNING: Requested formats are incompatible for merge and will be merged into mkv.\n"
          ],
          "name": "stderr"
        },
        {
          "output_type": "stream",
          "text": [
            "[download] Destination: Puri janagam simple city life WhatsApp status-b9vahy6dQJQ.f313.webm\n",
            "[download] 100% of 36.39MiB in 00:11\n",
            "[download] Destination: Puri janagam simple city life WhatsApp status-b9vahy6dQJQ.f140.m4a\n",
            "[download] 100% of 1.80MiB in 00:00\n",
            "[ffmpeg] Merging formats into \"Puri janagam simple city life WhatsApp status-b9vahy6dQJQ.mkv\"\n",
            "Deleting original file Puri janagam simple city life WhatsApp status-b9vahy6dQJQ.f313.webm (pass -k to keep)\n",
            "Deleting original file Puri janagam simple city life WhatsApp status-b9vahy6dQJQ.f140.m4a (pass -k to keep)\n"
          ],
          "name": "stdout"
        },
        {
          "output_type": "execute_result",
          "data": {
            "text/plain": [
              "0"
            ]
          },
          "metadata": {
            "tags": []
          },
          "execution_count": 5
        }
      ]
    },
    {
      "cell_type": "markdown",
      "metadata": {
        "id": "X07MfAjl-rnO"
      },
      "source": [
        "In built HTTP File Server"
      ]
    },
    {
      "cell_type": "code",
      "metadata": {
        "colab": {
          "base_uri": "https://localhost:8080/"
        },
        "id": "4nzcPNa0-sm8",
        "outputId": "f6640918-062e-4387-e270-45cacb980870"
      },
      "source": [
        "!python -m http.server "
      ],
      "execution_count": 6,
      "outputs": [
        {
          "output_type": "stream",
          "text": [
            "Serving HTTP on 0.0.0.0 port 8000 (http://0.0.0.0:8000/) ...\n",
            "\n",
            "Keyboard interrupt received, exiting.\n",
            "^C\n"
          ],
          "name": "stdout"
        }
      ]
    },
    {
      "cell_type": "code",
      "metadata": {
        "id": "Ta8tPP20Ag4z"
      },
      "source": [
        "!ifconfig "
      ],
      "execution_count": null,
      "outputs": []
    },
    {
      "cell_type": "code",
      "metadata": {
        "id": "kwNaRvJhAjmT"
      },
      "source": [
        "# share the file accross the same network using the ip address and call on port 8000"
      ],
      "execution_count": null,
      "outputs": []
    },
    {
      "cell_type": "markdown",
      "metadata": {
        "id": "B66CkUUvAdX9"
      },
      "source": [
        "Control you browser from a script"
      ]
    },
    {
      "cell_type": "code",
      "metadata": {
        "colab": {
          "base_uri": "https://localhost:8080/"
        },
        "id": "8OWEa-WZA_Ii",
        "outputId": "a842df2a-a389-472c-c940-17503b31393c"
      },
      "source": [
        "import webbrowser\n",
        "\n",
        "url = \"https://moodle.hochschule-heidelberg.de/\"\n",
        "\n",
        "webbrowser.open_new(url)"
      ],
      "execution_count": 10,
      "outputs": [
        {
          "output_type": "execute_result",
          "data": {
            "text/plain": [
              "False"
            ]
          },
          "metadata": {
            "tags": []
          },
          "execution_count": 10
        }
      ]
    },
    {
      "cell_type": "markdown",
      "metadata": {
        "id": "I2kcyAlvB3An"
      },
      "source": [
        "Schedule a job"
      ]
    },
    {
      "cell_type": "code",
      "metadata": {
        "colab": {
          "base_uri": "https://localhost:8080/"
        },
        "id": "Webg1lShB_IA",
        "outputId": "73e44bca-cf35-42e0-8ce1-5a2ebb40715c"
      },
      "source": [
        "import sched\n",
        "import time \n",
        "\n",
        "def my_fun():\n",
        "  print(\"hello welcome\")\n",
        "\n",
        "s = sched.scheduler(time.time, time.sleep) \n",
        "\n",
        "s.enter(5, 1, my_fun, argument=())\n",
        "s.run()\n"
      ],
      "execution_count": 13,
      "outputs": [
        {
          "output_type": "stream",
          "text": [
            "hello welcome\n"
          ],
          "name": "stdout"
        }
      ]
    },
    {
      "cell_type": "code",
      "metadata": {
        "id": "3mtbH7uXDjDs"
      },
      "source": [
        "import sched\n",
        "import time \n",
        "\n",
        "def my_fun():\n",
        "  s.enter(5, 1, my_fun, argument=()) # run for every 5sec forever\n",
        "  print(\"hello welcome\")\n",
        "\n",
        "s = sched.scheduler(time.time, time.sleep) \n",
        "\n",
        "s.enter(5, 1, my_fun, argument=())\n",
        "s.run()\n"
      ],
      "execution_count": null,
      "outputs": []
    },
    {
      "cell_type": "markdown",
      "metadata": {
        "id": "5vmKzq3REFnn"
      },
      "source": [
        "simple web scraping "
      ]
    },
    {
      "cell_type": "code",
      "metadata": {
        "id": "w2fk3driEFIR"
      },
      "source": [
        "!pip install requests-html"
      ],
      "execution_count": null,
      "outputs": []
    },
    {
      "cell_type": "code",
      "metadata": {
        "id": "xdYUW8iTOc6o"
      },
      "source": [
        "from requests_html import HTMLSession\n",
        "\n",
        "session = HTMLSession()\n",
        "\n",
        "url = \"https://www.investing.com/equities/\"\n",
        "\n",
        "r = session.get(url)\n",
        "class_id= \"#bold left noWrap elp plusIconTd\"\n",
        "\n",
        "a = r.html.find(class_id, first = True)\n",
        "\n",
        "print(a.text)\n"
      ],
      "execution_count": null,
      "outputs": []
    },
    {
      "cell_type": "code",
      "metadata": {
        "colab": {
          "base_uri": "https://localhost:8080/"
        },
        "id": "maYxpbe6QVym",
        "outputId": "df7cd02b-e9df-4922-df9c-9df96768c0b6"
      },
      "source": [
        "print (a)"
      ],
      "execution_count": 21,
      "outputs": [
        {
          "output_type": "stream",
          "text": [
            "None\n"
          ],
          "name": "stdout"
        }
      ]
    },
    {
      "cell_type": "markdown",
      "metadata": {
        "id": "0E_h3i9aRqSK"
      },
      "source": [
        "Adding color to your print statements "
      ]
    },
    {
      "cell_type": "code",
      "metadata": {
        "colab": {
          "base_uri": "https://localhost:8080/"
        },
        "id": "butQ1GI3Rpdg",
        "outputId": "9ab6c176-a5ee-4154-f8f0-1b12640fa8b8"
      },
      "source": [
        "!pip install colorama"
      ],
      "execution_count": 23,
      "outputs": [
        {
          "output_type": "stream",
          "text": [
            "Collecting colorama\n",
            "  Downloading https://files.pythonhosted.org/packages/44/98/5b86278fbbf250d239ae0ecb724f8572af1c91f4a11edf4d36a206189440/colorama-0.4.4-py2.py3-none-any.whl\n",
            "Installing collected packages: colorama\n",
            "Successfully installed colorama-0.4.4\n"
          ],
          "name": "stdout"
        }
      ]
    },
    {
      "cell_type": "code",
      "metadata": {
        "colab": {
          "base_uri": "https://localhost:8080/"
        },
        "id": "AHqk1_XsRdcx",
        "outputId": "53b80741-9748-4f34-f0a0-4f606d97819f"
      },
      "source": [
        "from colorama import Fore\n",
        "from colorama import init\n",
        "\n",
        "init()\n",
        "\n",
        "print(Fore.GREEN + 'hello green')\n",
        "print(Fore.YELLOW + \"hello green\")\n",
        "print(Fore.RED + \"hello green\")\n",
        "print(Fore.BLUE + \"hello green\")"
      ],
      "execution_count": 26,
      "outputs": [
        {
          "output_type": "stream",
          "text": [
            "hello green\n",
            "hello green\n",
            "hello green\n",
            "hello green\n"
          ],
          "name": "stdout"
        }
      ]
    },
    {
      "cell_type": "markdown",
      "metadata": {
        "id": "sVLYdwo3Vto4"
      },
      "source": [
        "python Debugger "
      ]
    },
    {
      "cell_type": "code",
      "metadata": {
        "colab": {
          "base_uri": "https://localhost:8080/"
        },
        "id": "5pUkV2ceSEDJ",
        "outputId": "a8b81f6f-a458-428e-d887-65f78cda6ee9"
      },
      "source": [
        "import pdb\n",
        "\n",
        "a = 20 \n",
        "b = 30 \n",
        "\n",
        "results = []\n",
        "\n",
        "for i in range(5):\n",
        "  pdb.set_trace()\n",
        "\n",
        "  r = i * a+b\n",
        "  results.append(r)"
      ],
      "execution_count": null,
      "outputs": [
        {
          "output_type": "stream",
          "text": [
            "> <ipython-input-29-1eab53483693>(11)<module>()\n",
            "-> r = i * a+b\n",
            "(Pdb) a\n",
            "(Pdb) b\n",
            "(Pdb) r\n",
            "> <ipython-input-29-1eab53483693>(11)<module>()\n",
            "-> r = i * a+b\n",
            "(Pdb) n\n",
            "> <ipython-input-29-1eab53483693>(12)<module>()\n",
            "-> results.append(r)\n",
            "(Pdb) r\n",
            "> <ipython-input-29-1eab53483693>(11)<module>()\n",
            "-> r = i * a+b\n",
            "--KeyboardInterrupt--\n",
            "--KeyboardInterrupt--\n",
            "--KeyboardInterrupt--\n"
          ],
          "name": "stdout"
        }
      ]
    },
    {
      "cell_type": "markdown",
      "metadata": {
        "id": "QVTwJJC0d7he"
      },
      "source": [
        "Progress bar to the loops "
      ]
    },
    {
      "cell_type": "code",
      "metadata": {
        "colab": {
          "base_uri": "https://localhost:8080/"
        },
        "id": "GTnmdrhncHG-",
        "outputId": "fceaf7fe-089e-44fa-a25c-9bbf5047a2e2"
      },
      "source": [
        "from tqdm import tqdm \n",
        "\n",
        "import time \n",
        "\n",
        "for i in tqdm(range(10)):\n",
        "  time.sleep(0.1)\n"
      ],
      "execution_count": 3,
      "outputs": [
        {
          "output_type": "stream",
          "text": [
            "100%|██████████| 10/10 [00:01<00:00,  9.87it/s]\n"
          ],
          "name": "stderr"
        }
      ]
    },
    {
      "cell_type": "markdown",
      "metadata": {
        "id": "IWbI4G5ZfBpb"
      },
      "source": [
        "Print 2d array"
      ]
    },
    {
      "cell_type": "code",
      "metadata": {
        "colab": {
          "base_uri": "https://localhost:8080/"
        },
        "id": "xxw3yzQPeali",
        "outputId": "e884d7a6-59f5-4a53-c119-578430fc574c"
      },
      "source": [
        "!pip install tabulate "
      ],
      "execution_count": 4,
      "outputs": [
        {
          "output_type": "stream",
          "text": [
            "Requirement already satisfied: tabulate in /usr/local/lib/python3.6/dist-packages (0.8.7)\n"
          ],
          "name": "stdout"
        }
      ]
    },
    {
      "cell_type": "code",
      "metadata": {
        "id": "V8NZ1pj5fbCg"
      },
      "source": [
        "table = [[\"name\",\"avinash\",\"john\"],[\"age\", 29,29]]"
      ],
      "execution_count": 5,
      "outputs": []
    },
    {
      "cell_type": "code",
      "metadata": {
        "colab": {
          "base_uri": "https://localhost:8080/"
        },
        "id": "UvEJQE0Sft40",
        "outputId": "5b3f711d-6b33-4041-a1ea-6604d16cd30d"
      },
      "source": [
        "from tabulate import tabulate\n",
        "print (tabulate(table))"
      ],
      "execution_count": 8,
      "outputs": [
        {
          "output_type": "stream",
          "text": [
            "----  -------  ----\n",
            "name  avinash  john\n",
            "age   29       29\n",
            "----  -------  ----\n"
          ],
          "name": "stdout"
        }
      ]
    },
    {
      "cell_type": "markdown",
      "metadata": {
        "id": "cBKKzjSNgcnn"
      },
      "source": [
        "Keyboard "
      ]
    },
    {
      "cell_type": "code",
      "metadata": {
        "colab": {
          "base_uri": "https://localhost:8080/"
        },
        "id": "VNFrZ5UsgcKG",
        "outputId": "02844fa8-f562-4705-a3d8-5386c892c3e7"
      },
      "source": [
        "!pip install keyboard "
      ],
      "execution_count": 9,
      "outputs": [
        {
          "output_type": "stream",
          "text": [
            "Collecting keyboard\n",
            "\u001b[?25l  Downloading https://files.pythonhosted.org/packages/55/88/287159903c5b3fc6d47b651c7ab65a54dcf9c9916de546188a7f62870d6d/keyboard-0.13.5-py3-none-any.whl (58kB)\n",
            "\r\u001b[K     |█████▋                          | 10kB 18.2MB/s eta 0:00:01\r\u001b[K     |███████████▎                    | 20kB 22.1MB/s eta 0:00:01\r\u001b[K     |█████████████████               | 30kB 20.0MB/s eta 0:00:01\r\u001b[K     |██████████████████████▋         | 40kB 18.4MB/s eta 0:00:01\r\u001b[K     |████████████████████████████▏   | 51kB 15.2MB/s eta 0:00:01\r\u001b[K     |████████████████████████████████| 61kB 5.4MB/s \n",
            "\u001b[?25hInstalling collected packages: keyboard\n",
            "Successfully installed keyboard-0.13.5\n"
          ],
          "name": "stdout"
        }
      ]
    },
    {
      "cell_type": "code",
      "metadata": {
        "id": "JIqUuwpugjgP"
      },
      "source": [
        "import keyboard\n",
        "\n",
        "keyboard.write(\"hello your great\")"
      ],
      "execution_count": null,
      "outputs": []
    },
    {
      "cell_type": "code",
      "metadata": {
        "colab": {
          "base_uri": "https://localhost:8080/",
          "height": 513
        },
        "id": "pOLYcT7RhCgA",
        "outputId": "b82d2930-9dee-499e-fe76-64dd2e20423f"
      },
      "source": [
        "!pip install ptpython"
      ],
      "execution_count": 11,
      "outputs": [
        {
          "output_type": "stream",
          "text": [
            "Collecting ptpython\n",
            "\u001b[?25l  Downloading https://files.pythonhosted.org/packages/20/9b/4fce599f93085b44065913b3ed83cf285b63808c9a96fe8d42dd6b872ff1/ptpython-3.0.7-py2.py3-none-any.whl (52kB)\n",
            "\r\u001b[K     |██████▎                         | 10kB 16.0MB/s eta 0:00:01\r\u001b[K     |████████████▌                   | 20kB 22.4MB/s eta 0:00:01\r\u001b[K     |██████████████████▊             | 30kB 21.9MB/s eta 0:00:01\r\u001b[K     |█████████████████████████       | 40kB 18.4MB/s eta 0:00:01\r\u001b[K     |███████████████████████████████▏| 51kB 15.2MB/s eta 0:00:01\r\u001b[K     |████████████████████████████████| 61kB 5.9MB/s \n",
            "\u001b[?25hRequirement already satisfied: pygments in /usr/local/lib/python3.6/dist-packages (from ptpython) (2.6.1)\n",
            "Collecting prompt-toolkit<3.1.0,>=3.0.0\n",
            "\u001b[?25l  Downloading https://files.pythonhosted.org/packages/8a/aa/198e6a857e83ea8b711a6ae0c37717c0eb1b23ff52e3732a644fcd389cb3/prompt_toolkit-3.0.8-py3-none-any.whl (355kB)\n",
            "\u001b[K     |████████████████████████████████| 358kB 17.0MB/s \n",
            "\u001b[?25hRequirement already satisfied: importlib-metadata; python_version < \"3.8\" in /usr/local/lib/python3.6/dist-packages (from ptpython) (2.0.0)\n",
            "Requirement already satisfied: jedi>=0.9.0 in /usr/local/lib/python3.6/dist-packages (from ptpython) (0.17.2)\n",
            "Requirement already satisfied: appdirs in /usr/local/lib/python3.6/dist-packages (from ptpython) (1.4.4)\n",
            "Requirement already satisfied: wcwidth in /usr/local/lib/python3.6/dist-packages (from prompt-toolkit<3.1.0,>=3.0.0->ptpython) (0.2.5)\n",
            "Requirement already satisfied: zipp>=0.5 in /usr/local/lib/python3.6/dist-packages (from importlib-metadata; python_version < \"3.8\"->ptpython) (3.4.0)\n",
            "Requirement already satisfied: parso<0.8.0,>=0.7.0 in /usr/local/lib/python3.6/dist-packages (from jedi>=0.9.0->ptpython) (0.7.1)\n",
            "\u001b[31mERROR: jupyter-console 5.2.0 has requirement prompt-toolkit<2.0.0,>=1.0.0, but you'll have prompt-toolkit 3.0.8 which is incompatible.\u001b[0m\n",
            "\u001b[31mERROR: ipython 5.5.0 has requirement prompt-toolkit<2.0.0,>=1.0.4, but you'll have prompt-toolkit 3.0.8 which is incompatible.\u001b[0m\n",
            "Installing collected packages: prompt-toolkit, ptpython\n",
            "  Found existing installation: prompt-toolkit 1.0.18\n",
            "    Uninstalling prompt-toolkit-1.0.18:\n",
            "      Successfully uninstalled prompt-toolkit-1.0.18\n",
            "Successfully installed prompt-toolkit-3.0.8 ptpython-3.0.7\n"
          ],
          "name": "stdout"
        },
        {
          "output_type": "display_data",
          "data": {
            "application/vnd.colab-display-data+json": {
              "pip_warning": {
                "packages": [
                  "prompt_toolkit"
                ]
              }
            }
          },
          "metadata": {
            "tags": []
          }
        }
      ]
    }
  ]
}